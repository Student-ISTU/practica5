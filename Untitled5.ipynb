{
 "cells": [
  {
   "cell_type": "markdown",
   "metadata": {},
   "source": [
    "# Задача 1"
   ]
  },
  {
   "cell_type": "code",
   "execution_count": 1,
   "metadata": {},
   "outputs": [
    {
     "name": "stdout",
     "output_type": "stream",
     "text": [
      "9\n",
      "1 4 9 \n"
     ]
    }
   ],
   "source": [
    "n = int(input())\n",
    "i = 2\n",
    "s = \"1 \"\n",
    "while i*i<=n:\n",
    "    s0 = str(i*i)\n",
    "    s = s+s0+\" \"\n",
    "    i+=1\n",
    "print(s)"
   ]
  },
  {
   "cell_type": "markdown",
   "metadata": {},
   "source": [
    "# Задача 2"
   ]
  },
  {
   "cell_type": "code",
   "execution_count": 2,
   "metadata": {},
   "outputs": [
    {
     "name": "stdout",
     "output_type": "stream",
     "text": [
      "9\n",
      "3\n"
     ]
    }
   ],
   "source": [
    "n = int(input())\n",
    "for i in range (2, n):\n",
    "    if n%i==0:\n",
    "        print(i)\n",
    "        break"
   ]
  },
  {
   "cell_type": "markdown",
   "metadata": {},
   "source": [
    "# Задача 3"
   ]
  },
  {
   "cell_type": "code",
   "execution_count": 1,
   "metadata": {},
   "outputs": [
    {
     "name": "stdout",
     "output_type": "stream",
     "text": [
      "9\n",
      "1 2 4 8 \n"
     ]
    }
   ],
   "source": [
    "n = int(input())\n",
    "s = \"1 \"\n",
    "i = 1\n",
    "while 2**i<=n:\n",
    "    s0 = str(2**i)\n",
    "    s = s+s0+\" \"\n",
    "    i+=1\n",
    "print(s)"
   ]
  },
  {
   "cell_type": "markdown",
   "metadata": {},
   "source": [
    "# Задача 4"
   ]
  },
  {
   "cell_type": "code",
   "execution_count": 2,
   "metadata": {},
   "outputs": [
    {
     "name": "stdout",
     "output_type": "stream",
     "text": [
      "7\n",
      "No\n"
     ]
    }
   ],
   "source": [
    "n = int(input())\n",
    "i = 0\n",
    "f = False\n",
    "while 2**i<=n:\n",
    "    if 2**i==n:\n",
    "        f = True\n",
    "        break\n",
    "    i+=1\n",
    "if f==True:\n",
    "    print(\"Yes\")\n",
    "else:\n",
    "    print(\"No\")"
   ]
  },
  {
   "cell_type": "markdown",
   "metadata": {},
   "source": [
    "# Задача 5"
   ]
  },
  {
   "cell_type": "code",
   "execution_count": 3,
   "metadata": {},
   "outputs": [
    {
     "name": "stdout",
     "output_type": "stream",
     "text": [
      "9\n",
      "4\n"
     ]
    }
   ],
   "source": [
    "n = int(input())\n",
    "for k in range (0, n):\n",
    "    if 2**k>=n:\n",
    "        print(k)\n",
    "        break"
   ]
  },
  {
   "cell_type": "markdown",
   "metadata": {},
   "source": [
    "# Задача 6"
   ]
  },
  {
   "cell_type": "code",
   "execution_count": 6,
   "metadata": {},
   "outputs": [
    {
     "name": "stdout",
     "output_type": "stream",
     "text": [
      "10\n",
      "20\n",
      "9\n"
     ]
    }
   ],
   "source": [
    "x = float(input())\n",
    "y = float(input())\n",
    "i=0\n",
    "while x<=y:\n",
    "    i+=1\n",
    "    b = x*0.1\n",
    "    x+=b\n",
    "print(i+1)"
   ]
  },
  {
   "cell_type": "markdown",
   "metadata": {},
   "source": [
    "# Задача 7"
   ]
  },
  {
   "cell_type": "code",
   "execution_count": 6,
   "metadata": {},
   "outputs": [
    {
     "name": "stdout",
     "output_type": "stream",
     "text": [
      "1\n",
      "9\n",
      "5\n",
      "7\n",
      "0\n",
      "9\n"
     ]
    }
   ],
   "source": [
    "max = 0\n",
    "x = 1\n",
    "while x!=0:\n",
    "    x = int(input())\n",
    "    if x>max:\n",
    "        max = x\n",
    "print(max)"
   ]
  },
  {
   "cell_type": "markdown",
   "metadata": {},
   "source": [
    "# Задача 8"
   ]
  },
  {
   "cell_type": "code",
   "execution_count": 8,
   "metadata": {},
   "outputs": [
    {
     "name": "stdout",
     "output_type": "stream",
     "text": [
      "2\n",
      "5\n"
     ]
    }
   ],
   "source": [
    "n = int(input())\n",
    "s = 0\n",
    "for i in range (1, n+1):\n",
    "    s+=i*i\n",
    "print(s)"
   ]
  },
  {
   "cell_type": "markdown",
   "metadata": {},
   "source": [
    "# Задача 9"
   ]
  },
  {
   "cell_type": "code",
   "execution_count": 10,
   "metadata": {},
   "outputs": [
    {
     "name": "stdout",
     "output_type": "stream",
     "text": [
      "5\n",
      "7\n",
      "8\n",
      "9\n",
      "2\n",
      "3\n",
      "4\n",
      "5\n",
      "6\n",
      "1\n",
      "2\n",
      "0\n",
      "11\n"
     ]
    }
   ],
   "source": [
    "i = 0\n",
    "n = -1\n",
    "while n!=0:\n",
    "    n = int(input())\n",
    "    i+=1\n",
    "print(i-1)"
   ]
  },
  {
   "cell_type": "markdown",
   "metadata": {},
   "source": [
    "# Задача 10"
   ]
  },
  {
   "cell_type": "code",
   "execution_count": 11,
   "metadata": {},
   "outputs": [
    {
     "name": "stdout",
     "output_type": "stream",
     "text": [
      "1\n",
      "2\n",
      "3\n",
      "0\n",
      "6\n"
     ]
    }
   ],
   "source": [
    "i = 0\n",
    "n = -1\n",
    "while n!=0:\n",
    "    n = int(input())\n",
    "    i+=n\n",
    "print(i)"
   ]
  },
  {
   "cell_type": "markdown",
   "metadata": {},
   "source": [
    "# Задача 11"
   ]
  },
  {
   "cell_type": "code",
   "execution_count": 15,
   "metadata": {},
   "outputs": [
    {
     "name": "stdout",
     "output_type": "stream",
     "text": [
      "1\n",
      "7\n",
      "9\n",
      "0\n",
      "5.666666666666667\n"
     ]
    }
   ],
   "source": [
    "i = 0\n",
    "s = 0\n",
    "n = -1\n",
    "while n!=0:\n",
    "    n = int(input())\n",
    "    s+=n\n",
    "    i+=1\n",
    "print(s/(i-1))"
   ]
  },
  {
   "cell_type": "markdown",
   "metadata": {},
   "source": [
    "# Задача 12"
   ]
  },
  {
   "cell_type": "code",
   "execution_count": 16,
   "metadata": {},
   "outputs": [
    {
     "name": "stdout",
     "output_type": "stream",
     "text": [
      "2\n",
      "5\n",
      "4\n",
      "6\n",
      "0\n",
      "3\n"
     ]
    }
   ],
   "source": [
    "i = 0\n",
    "n = -1\n",
    "while n!=0:\n",
    "    n = int(input())\n",
    "    if n!=0 and n%2==0:\n",
    "        i+=1\n",
    "print(i)"
   ]
  },
  {
   "cell_type": "markdown",
   "metadata": {},
   "source": [
    "# Задача 13"
   ]
  },
  {
   "cell_type": "code",
   "execution_count": 17,
   "metadata": {},
   "outputs": [
    {
     "name": "stdout",
     "output_type": "stream",
     "text": [
      "1\n",
      "7\n",
      "9\n",
      "0\n",
      "2\n"
     ]
    }
   ],
   "source": [
    "i = 0\n",
    "m = int(input())\n",
    "n = int(input())\n",
    "if m!=0:\n",
    "    if n>m:\n",
    "        i+=1\n",
    "while n!=0:\n",
    "    m = n\n",
    "    n = int(input())\n",
    "    if n>m:\n",
    "        i+=1\n",
    "print(i)"
   ]
  },
  {
   "cell_type": "markdown",
   "metadata": {},
   "source": [
    "# Задача 14"
   ]
  },
  {
   "cell_type": "code",
   "execution_count": 20,
   "metadata": {},
   "outputs": [
    {
     "name": "stdout",
     "output_type": "stream",
     "text": [
      "1\n",
      "7\n",
      "9\n",
      "0\n",
      "7\n"
     ]
    }
   ],
   "source": [
    "max1 = -10\n",
    "max2 = -10\n",
    "n = -1\n",
    "while n!=0:\n",
    "    n = int(input())\n",
    "    if n==max1:\n",
    "        max2 = n\n",
    "    if n>max1:\n",
    "        max2 = max1\n",
    "        max1 = n\n",
    "    if n<max1 and n>max2:\n",
    "        max2 = n\n",
    "print(max2)"
   ]
  },
  {
   "cell_type": "markdown",
   "metadata": {},
   "source": [
    "# Задача 15"
   ]
  },
  {
   "cell_type": "code",
   "execution_count": 22,
   "metadata": {},
   "outputs": [
    {
     "name": "stdout",
     "output_type": "stream",
     "text": [
      "1\n",
      "3\n",
      "3\n",
      "1\n",
      "0\n",
      "2\n"
     ]
    }
   ],
   "source": [
    "max1 = -10\n",
    "n = -1\n",
    "i = 1\n",
    "while n!=0:\n",
    "    n = int(input())\n",
    "    if n>max1:\n",
    "        max1 = n\n",
    "        i=1\n",
    "    elif n==max1:\n",
    "        i+=1   \n",
    "print(i)"
   ]
  },
  {
   "cell_type": "markdown",
   "metadata": {},
   "source": [
    "# Задача 16"
   ]
  },
  {
   "cell_type": "code",
   "execution_count": 23,
   "metadata": {},
   "outputs": [
    {
     "name": "stdout",
     "output_type": "stream",
     "text": [
      "6\n",
      "8\n"
     ]
    }
   ],
   "source": [
    "n = int(input())\n",
    "def f(n):\n",
    "    if n==0:\n",
    "        return 0\n",
    "    elif n==1:\n",
    "        return 1\n",
    "    else:\n",
    "        return f(n-1)+f(n-2)\n",
    "print(f(n))"
   ]
  },
  {
   "cell_type": "markdown",
   "metadata": {},
   "source": [
    "# Задача 17"
   ]
  },
  {
   "cell_type": "code",
   "execution_count": 2,
   "metadata": {},
   "outputs": [
    {
     "name": "stdout",
     "output_type": "stream",
     "text": [
      "8\n",
      "6\n"
     ]
    }
   ],
   "source": [
    "a = int(input())\n",
    "n = a\n",
    "def f(n):\n",
    "    if n==0:\n",
    "        return 0\n",
    "    elif n==1:\n",
    "        return 1\n",
    "    else:\n",
    "        return f(n-1)+f(n-2)\n",
    "x = f(n)\n",
    "while x!=a:\n",
    "    n-=1\n",
    "    x = f(n)\n",
    "    if x==a:\n",
    "        break\n",
    "print(n)"
   ]
  },
  {
   "cell_type": "markdown",
   "metadata": {},
   "source": [
    "# Задача 18"
   ]
  },
  {
   "cell_type": "code",
   "execution_count": 3,
   "metadata": {},
   "outputs": [
    {
     "name": "stdout",
     "output_type": "stream",
     "text": [
      "179\n",
      "20\n",
      "-1\n",
      ":2\n",
      "-1\n",
      ":2\n",
      ":2\n",
      "-1\n",
      "-1\n"
     ]
    }
   ],
   "source": [
    "a, b = int(input()), int(input())\n",
    "while a!=b:\n",
    "    if (a//2>=b) and (a%2 == 0):\n",
    "        print (':2')\n",
    "        a//=2\n",
    "    else:\n",
    "        print ('-1')\n",
    "        a-=1"
   ]
  },
  {
   "cell_type": "markdown",
   "metadata": {},
   "source": [
    "# Задача 19"
   ]
  },
  {
   "cell_type": "code",
   "execution_count": 6,
   "metadata": {},
   "outputs": [
    {
     "name": "stdout",
     "output_type": "stream",
     "text": [
      "345\n",
      "543\n"
     ]
    }
   ],
   "source": [
    "s = str(input())\n",
    "i = len(s)-1\n",
    "s0 = s[i]\n",
    "i-=1\n",
    "while i>=0:\n",
    "    s0+=s[i]\n",
    "    i-=1\n",
    "print(s0)"
   ]
  },
  {
   "cell_type": "markdown",
   "metadata": {},
   "source": [
    "# Задача 20"
   ]
  },
  {
   "cell_type": "code",
   "execution_count": 7,
   "metadata": {},
   "outputs": [
    {
     "name": "stdout",
     "output_type": "stream",
     "text": [
      "100\n",
      "18\n"
     ]
    }
   ],
   "source": [
    "K = int(input())\n",
    "countNumber = 0\n",
    "countFlip = 0\n",
    "for countNumber in range(1, K+1):\n",
    "    Number = countNumber\n",
    "    flip = 0 # нужно инициализировать здесь\n",
    "    while Number > 0:\n",
    "        flip = flip * 10 + Number % 10\n",
    "        Number = Number // 10\n",
    "    if countNumber == flip:\n",
    "       countFlip += 1\n",
    "print(countFlip)"
   ]
  },
  {
   "cell_type": "markdown",
   "metadata": {},
   "source": [
    "# Задача 21"
   ]
  },
  {
   "cell_type": "code",
   "execution_count": 18,
   "metadata": {},
   "outputs": [
    {
     "name": "stdout",
     "output_type": "stream",
     "text": [
      "1\n",
      "7\n",
      "7\n",
      "9\n",
      "1\n",
      "0\n",
      "2\n"
     ]
    }
   ],
   "source": [
    "prev = -1\n",
    "curr_rep_len = 0\n",
    "max_rep_len = 0\n",
    "element = int(input())\n",
    "while element != 0:\n",
    "    if prev == element:\n",
    "        curr_rep_len += 1\n",
    "    else:\n",
    "        prev = element\n",
    "        max_rep_len = max(max_rep_len, curr_rep_len)\n",
    "        curr_rep_len = 1\n",
    "    element = int(input())\n",
    "max_rep_len = max(max_rep_len, curr_rep_len)\n",
    "print(max_rep_len)"
   ]
  },
  {
   "cell_type": "markdown",
   "metadata": {},
   "source": [
    "# Задача 22"
   ]
  },
  {
   "cell_type": "code",
   "execution_count": 23,
   "metadata": {},
   "outputs": [
    {
     "name": "stdout",
     "output_type": "stream",
     "text": [
      "1\n",
      "7\n",
      "7\n",
      "9\n",
      "1\n",
      "0\n",
      "2\n"
     ]
    }
   ],
   "source": [
    "m = 1\n",
    "dec = 1\n",
    "inc = 1\n",
    "n1 = int(input())\n",
    "while n1:    \n",
    "    m = max(inc, dec, m)\n",
    "    n2 = int(input())    \n",
    "    if not n2: break\n",
    "    if n1 > n2: dec, inc = dec + 1, 1               \n",
    "    elif n1 < n2: inc, dec = inc + 1, 1        \n",
    "    else: inc = dec = 1\n",
    "    n1 = n2\n",
    "print(m)\n"
   ]
  },
  {
   "cell_type": "markdown",
   "metadata": {},
   "source": [
    "# Задача 23"
   ]
  },
  {
   "cell_type": "code",
   "execution_count": 20,
   "metadata": {},
   "outputs": [
    {
     "name": "stdout",
     "output_type": "stream",
     "text": [
      "1\n",
      "2\n",
      "1\n",
      "1\n",
      "2\n",
      "1\n",
      "0\n",
      "[1, 2, 1, 1, 2, 1, 0] \n",
      "\n",
      "2\n"
     ]
    }
   ],
   "source": [
    "x = 1\n",
    "s = []\n",
    "while x != 0:\n",
    "    s.append(int(input()))\n",
    "    x = s[len(s) - 1]\n",
    "print(s ,'\\n')\n",
    "max2_n = 0\n",
    "max1_n = 0\n",
    "Res = 1000000\n",
    "for x in range(1, len(s) - 2):\n",
    "    if s[x] > s[x+1] and s[x] > s[x-1]:\n",
    "        max2_n = max1_n\n",
    "        max1_n =  x\n",
    "        if (max1_n > 0) and (max2_n > 0) and (max1_n - max2_n < Res):\n",
    "            Res = max1_n - max2_n - 1\n",
    "if Res == 1000000: Res = 0\n",
    "print(Res)"
   ]
  },
  {
   "cell_type": "markdown",
   "metadata": {},
   "source": [
    "# Задача 24"
   ]
  },
  {
   "cell_type": "code",
   "execution_count": 21,
   "metadata": {},
   "outputs": [
    {
     "name": "stdout",
     "output_type": "stream",
     "text": [
      "3\n",
      "4\n",
      "5\n",
      "6.0\n"
     ]
    }
   ],
   "source": [
    "a = int(input())\n",
    "b = int(input())\n",
    "c = int(input()) \n",
    "p = (a + b + c) / 2\n",
    "s = (p * (p - a) * (p - b) * (p - c)) ** 0.5\n",
    "print(s)"
   ]
  },
  {
   "cell_type": "code",
   "execution_count": null,
   "metadata": {},
   "outputs": [],
   "source": []
  }
 ],
 "metadata": {
  "kernelspec": {
   "display_name": "Python 3",
   "language": "python",
   "name": "python3"
  }
 },
 "nbformat": 4,
 "nbformat_minor": 4
}
